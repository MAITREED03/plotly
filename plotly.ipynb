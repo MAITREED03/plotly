{
 "cells": [
  {
   "cell_type": "markdown",
   "id": "1c21f842-705f-4363-a0f7-b089974f7cb8",
   "metadata": {},
   "source": [
    "Q1. Load the \"titanic\" dataset using the load_dataset function of seaborn. Use Plotly express to plot a\n",
    "scatter plot for age and fare columns in the titanic dataset."
   ]
  },
  {
   "cell_type": "markdown",
   "id": "8517604e-9304-4211-9b59-9ea321a0063f",
   "metadata": {},
   "source": [
    "import seaborn as sns\n",
    "import plotly.express as px\n",
    "\n",
    "# Load the Titanic dataset\n",
    "titanic = sns.load_dataset('titanic')\n",
    "\n",
    "# Create a scatter plot using Plotly Express\n",
    "scatter_plot = px.scatter(titanic, x='age', y='fare', title='Scatter Plot for Age and Fare in Titanic Dataset')\n",
    "\n",
    "# Show the plot\n",
    "scatter_plot.show()\n"
   ]
  },
  {
   "cell_type": "markdown",
   "id": "a63b642d-5074-4388-81a8-bb7fec72e58b",
   "metadata": {},
   "source": [
    "Q2. Using the tips dataset in the Plotly library, plot a box plot using Plotly express."
   ]
  },
  {
   "cell_type": "markdown",
   "id": "9c5bfdd2-9b5c-4d5f-b8ea-d77dafdc543f",
   "metadata": {},
   "source": [
    "import plotly.express as px\n",
    "\n",
    "# Load the tips dataset from Plotly Express\n",
    "tips = px.data.tips()\n",
    "\n",
    "# Create a box plot for total_bill vs day\n",
    "box_plot = px.box(tips, x='day', y='total_bill', title='Box Plot for Total Bill by Day')\n",
    "\n",
    "# Show the plot\n",
    "box_plot.show()\n"
   ]
  },
  {
   "cell_type": "markdown",
   "id": "7b68557d-7009-487b-aedf-aa947430a316",
   "metadata": {},
   "source": [
    "Q3. Using the tips dataset in the Plotly library, Plot a histogram for x= \"sex\" and y=\"total_bill\" column in\n",
    "the tips dataset. Also, use the \"smoker\" column with the pattern_shape parameter and the \"day\"\n",
    "column with the color parameter."
   ]
  },
  {
   "cell_type": "markdown",
   "id": "4e22c555-8922-4500-83ce-98440c4c6e2f",
   "metadata": {},
   "source": [
    "import plotly.express as px\n",
    "\n",
    "# Load the tips dataset from Plotly Express\n",
    "tips = px.data.tips()\n",
    "\n",
    "# Create a histogram with custom parameters\n",
    "histogram = px.histogram(\n",
    "    tips,\n",
    "    x=\"sex\",\n",
    "    y=\"total_bill\",\n",
    "    color=\"day\",\n",
    "    facet_col=\"smoker\",\n",
    "    pattern_shape=\"day\",\n",
    "    title=\"Histogram for Total Bill by Sex, Smoker, and Day\",\n",
    ")\n",
    "\n",
    "# Show the plot\n",
    "histogram.show()\n"
   ]
  },
  {
   "cell_type": "markdown",
   "id": "95783ab2-427d-493f-b65d-929928698467",
   "metadata": {},
   "source": [
    "Q4. Using the iris dataset in the Plotly library, Plot a scatter matrix plot, using the \"species\" column for\n",
    "the color parameter.\n",
    "Note: Use \"sepal_length\", \"sepal_width\", \"petal_length\", \"petal_width\" columns only with the\n",
    "dimensions parameter."
   ]
  },
  {
   "cell_type": "markdown",
   "id": "821c48d7-9e38-44f4-807b-0fd26c4a93e4",
   "metadata": {},
   "source": [
    "import plotly.express as px\n",
    "\n",
    "# Load the tips dataset from Plotly Express\n",
    "tips = px.data.tips()\n",
    "\n",
    "# Create a histogram with custom parameters\n",
    "histogram = px.histogram(\n",
    "    tips,\n",
    "    x=\"sex\",\n",
    "    y=\"total_bill\",\n",
    "    color=\"day\",\n",
    "    facet_col=\"smoker\",\n",
    "    pattern_shape=\"day\",\n",
    "    title=\"Histogram for Total Bill by Sex, Smoker, and Day\",\n",
    ")\n",
    "\n",
    "# Show the plot\n",
    "histogram.show()\n"
   ]
  },
  {
   "cell_type": "markdown",
   "id": "a1c07847-7a8e-4eac-b2e2-55b1db922836",
   "metadata": {},
   "source": [
    "Q5. What is Distplot? Using Plotly express, plot a distplot."
   ]
  },
  {
   "cell_type": "markdown",
   "id": "e96fd9cd-75d1-4d14-8c78-fbe7868c3d77",
   "metadata": {},
   "source": [
    "A distplot (distribution plot) is a graphical representation of the distribution of a univariate set of observations. It combines the histogram with a kernel density estimate, providing a smooth curve that represents the estimated probability density function of the underlying data."
   ]
  },
  {
   "cell_type": "markdown",
   "id": "319cf383-9f59-4470-bbb5-6d94b89561df",
   "metadata": {},
   "source": [
    "import plotly.express as px\n",
    "\n",
    "# Load a sample dataset\n",
    "df = px.data.tips()\n",
    "\n",
    "# Create a distplot\n",
    "distplot = px.histogram(\n",
    "    df,\n",
    "    x=\"total_bill\",\n",
    "    marginal=\"rug\",  # Choose \"rug\" for rug plot or \"box\" for box plot\n",
    "    title=\"Distplot for Total Bill\",\n",
    ")\n",
    "\n",
    "# Show the plot\n",
    "distplot.show()\n"
   ]
  },
  {
   "cell_type": "code",
   "execution_count": null,
   "id": "b84671a3-719f-4915-9ad7-e5933a40dbf0",
   "metadata": {},
   "outputs": [],
   "source": []
  }
 ],
 "metadata": {
  "kernelspec": {
   "display_name": "Python 3 (ipykernel)",
   "language": "python",
   "name": "python3"
  },
  "language_info": {
   "codemirror_mode": {
    "name": "ipython",
    "version": 3
   },
   "file_extension": ".py",
   "mimetype": "text/x-python",
   "name": "python",
   "nbconvert_exporter": "python",
   "pygments_lexer": "ipython3",
   "version": "3.10.8"
  }
 },
 "nbformat": 4,
 "nbformat_minor": 5
}
